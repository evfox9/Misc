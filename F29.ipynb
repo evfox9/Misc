{
 "cells": [
  {
   "cell_type": "markdown",
   "metadata": {},
   "source": [
    "# F29"
   ]
  },
  {
   "cell_type": "markdown",
   "metadata": {},
   "source": [
    "## F29-2: Gaussian Elimination"
   ]
  },
  {
   "cell_type": "markdown",
   "metadata": {},
   "source": [
    "### Linear Equation System"
   ]
  },
  {
   "cell_type": "markdown",
   "metadata": {},
   "source": [
    "$\n",
    "\\begin{cases} - x_2 - x_3 = -1 \\\\ - x_1 + 2 x_2 + x_3 = 0 \\\\ 3 x_1 - x_2 + 2 x_3 = 5 \\end{cases}\n",
    "$"
   ]
  },
  {
   "cell_type": "markdown",
   "metadata": {},
   "source": [
    "$\\leftrightarrow\n",
    "\\begin{bmatrix} 0 & -1 & -1 \\\\ -1 & 2 & 1 \\\\ 3 & 1 & 2 \\end{bmatrix}\n",
    "\\begin{bmatrix} x_1 \\\\ x_2 \\\\ x_3 \\end{bmatrix}\n",
    "=\n",
    "\\begin{bmatrix} -1 \\\\ 0 \\\\ 5 \\end{bmatrix}\n",
    "$"
   ]
  },
  {
   "cell_type": "markdown",
   "metadata": {},
   "source": [
    "$\\leftrightarrow\n",
    "\\begin{bmatrix} 1 & 0 & 1 \\\\ 0 & 1 & 1 \\\\ 0 & 0 & 0 \\end{bmatrix}\n",
    "\\begin{bmatrix} x_1 \\\\ x_2 \\\\ x_3 \\end{bmatrix}\n",
    "=\n",
    "\\begin{bmatrix} 2 \\\\ 1 \\\\ 0 \\end{bmatrix}\n",
    "$"
   ]
  },
  {
   "cell_type": "markdown",
   "metadata": {},
   "source": [
    "$\\leftrightarrow \\begin{cases}x_1 + x_3 = 2 \\\\ x_2 + x_3 = 1 \\end{cases}$"
   ]
  },
  {
   "cell_type": "markdown",
   "metadata": {},
   "source": [
    "$\\leftrightarrow \\begin{cases}x_1 = 2 - x_3 \\\\ x_2 = 1 - x_3 \\end{cases}$"
   ]
  },
  {
   "cell_type": "markdown",
   "metadata": {},
   "source": [
    "$x = \\begin{bmatrix} x_1 \\\\  x_2 \\\\ x_3 \\end{bmatrix}\n",
    "= \\begin{bmatrix} 2 - x_3 \\\\ 1 - x_3 \\\\ x_3 \\end{bmatrix}\n",
    "= \\begin{bmatrix} 2 \\\\ 1 \\\\ 0 \\end{bmatrix}\n",
    "+ \\begin{bmatrix} - x_3 \\\\ - x_3 \\\\ x_3 \\end{bmatrix}\n",
    "= \\begin{bmatrix} 2 \\\\ 1 \\\\ 0 \\end{bmatrix}\n",
    "+ \\begin{bmatrix} -1 \\\\ -1 \\\\ 1 \\end{bmatrix}t $"
   ]
  },
  {
   "cell_type": "markdown",
   "metadata": {},
   "source": [
    "### Inverse Matrix"
   ]
  },
  {
   "cell_type": "markdown",
   "metadata": {},
   "source": [
    "*Q. Find the inverse matrix of*\n",
    "$\\begin{bmatrix} 1 & 2 & 3 \\\\ 2 & 3 & 5 \\\\ 1 & 0 & 2 \\end{bmatrix}$."
   ]
  },
  {
   "cell_type": "markdown",
   "metadata": {},
   "source": [
    "$\n",
    "  \\left[\\begin{array}{rrr|rrr}\n",
    "    1 & 2 & 3 & 1 & 0 & 0 \\\\\n",
    "    2 & 3 & 5 & 0 & 1 & 0 \\\\\n",
    "    1 & 0 & 2 & 0 & 0 & 1\n",
    "  \\end{array}\\right]\n",
    "$"
   ]
  },
  {
   "cell_type": "markdown",
   "metadata": {},
   "source": [
    "$\\leftrightarrow \n",
    "  \\left[\\begin{array}{rrr|rrr}\n",
    "    1 & 2 & 3 & 1 & 0 & 0 \\\\\n",
    "    0 & -1 & -1 & -2 & 1 & 0 \\\\\n",
    "    0 & -2 & -1 & -1 & 0 & 1\n",
    "  \\end{array}\\right]\n",
    "$"
   ]
  },
  {
   "cell_type": "markdown",
   "metadata": {},
   "source": [
    "$\\leftrightarrow \n",
    "  \\left[\\begin{array}{rrr|rrr}\n",
    "    1 & 2 & 3 & 1 & 0 & 0 \\\\\n",
    "    0 & 1 & 1 & 2 & -1 & 0 \\\\\n",
    "    0 & -2 & -1 & -1 & 0 & 1\n",
    "  \\end{array}\\right]\n",
    "$"
   ]
  },
  {
   "cell_type": "markdown",
   "metadata": {},
   "source": [
    "$\\leftrightarrow \n",
    "  \\left[\\begin{array}{rrr|rrr}\n",
    "    1 & 2 & 3 & 1 & 0 & 0 \\\\\n",
    "    0 & 1 & 1 & 2 & -1 & 0 \\\\\n",
    "    0 & 0 & 1 & 3 & -2 & 1\n",
    "  \\end{array}\\right]\n",
    "$"
   ]
  },
  {
   "cell_type": "markdown",
   "metadata": {},
   "source": [
    "$\\leftrightarrow \n",
    "  \\left[\\begin{array}{rrr|rrr}\n",
    "    1 & 2 & 0 & -8 & 6 & -3 \\\\\n",
    "    0 & 1 & 0 & -1 & 1 & -1 \\\\\n",
    "    0 & 0 & 1 & 3 & -2 & 1\n",
    "  \\end{array}\\right]\n",
    "$"
   ]
  },
  {
   "cell_type": "markdown",
   "metadata": {},
   "source": [
    "$\\leftrightarrow \n",
    "  \\left[\\begin{array}{rrr|rrr}\n",
    "    1 & 0 & 0 & -6 & 4 & -1 \\\\\n",
    "    0 & 1 & 0 & -1 & 1 & -1 \\\\\n",
    "    0 & 0 & 1 & 3 & -2 & 1\n",
    "  \\end{array}\\right]\n",
    "$"
   ]
  },
  {
   "cell_type": "markdown",
   "metadata": {},
   "source": [
    "$\\therefore {\\begin{bmatrix} 1 & 2 & 3 \\\\ 2 & 3 & 5 \\\\ 1 & 0 & 2 \\end{bmatrix}}^{-1} = \n",
    "\\begin{bmatrix} -6 & 4 & -1 \\\\ -1 & 1 & -1 \\\\ 0 & 0 & 1 \\end{bmatrix}\n",
    "$"
   ]
  },
  {
   "cell_type": "markdown",
   "metadata": {},
   "source": [
    "---"
   ]
  },
  {
   "cell_type": "markdown",
   "metadata": {},
   "source": [
    "## F29-7: Eigen decomposition"
   ]
  },
  {
   "cell_type": "markdown",
   "metadata": {},
   "source": [
    "*Q. Diagonalize the matrix*\n",
    "$A = \\begin{bmatrix} 1 & -3 & 3 \\\\ 0 & -5 & 6 \\\\ 0 & -3 & 4 \\end{bmatrix}$."
   ]
  },
  {
   "cell_type": "markdown",
   "metadata": {},
   "source": [
    "$\n",
    "\\lambda I - A = \\begin{bmatrix} \n",
    "\\lambda - 1 & 3 & -3 \\\\ 0 & \\lambda + 5 & -6 \\\\ 0 & 3 & \\lambda - 4 \n",
    "\\end{bmatrix}\n",
    "$"
   ]
  },
  {
   "cell_type": "markdown",
   "metadata": {},
   "source": [
    "$\n",
    "\\det (\\lambda I - A) = \n",
    "(\\lambda - 1) \\det \\begin{bmatrix} \n",
    "\\lambda + 5 & -6 \\\\ 3 & \\lambda -4 \\end{bmatrix} \n",
    "- 3 \\det \\begin{bmatrix} 0 & -6 \\\\ 0 & \\lambda -4 \\end{bmatrix}\n",
    "+ (-3) \\det \\begin{bmatrix} 0 & \\lambda + 5 \\\\ 0 & 3 \n",
    "\\end{bmatrix}\n",
    "$"
   ]
  },
  {
   "cell_type": "markdown",
   "metadata": {},
   "source": [
    "$\n",
    "= (\\lambda - 1)((\\lambda + 5)(\\lambda - 4) + 18) - 3*0 + (-3)*0\n",
    "$"
   ]
  },
  {
   "cell_type": "markdown",
   "metadata": {},
   "source": [
    "$\n",
    "= (\\lambda - 1)^2 (\\lambda + 2)\n",
    "$"
   ]
  },
  {
   "cell_type": "markdown",
   "metadata": {},
   "source": [
    "$\n",
    "= 0\n",
    "$"
   ]
  },
  {
   "cell_type": "markdown",
   "metadata": {},
   "source": [
    "$\n",
    "\\therefore \\lambda_1 = 1, \\lambda_2 = 1, \\lambda_3 = -2\n",
    "$"
   ]
  },
  {
   "cell_type": "markdown",
   "metadata": {},
   "source": [
    "i) $\\lambda = 1$\n",
    "\n",
    "$\n",
    "\\lambda I - A = \\begin{bmatrix}\n",
    "0 & 3 & -3 \\\\ 0 & 6 & -6 \\\\ 0 & 3 & -3\n",
    "\\end{bmatrix}\n",
    "$"
   ]
  },
  {
   "cell_type": "markdown",
   "metadata": {},
   "source": [
    "$\n",
    "B_1 = \n",
    "\\begin{bmatrix} 0 & 3 & -3 \\\\ 0 & 6 & -6 \\\\ 0 & 3 & -3 \\end{bmatrix}\n",
    "\\begin{bmatrix} x_1 \\\\ x_2 \\\\ x_3 \\end{bmatrix}\n",
    "=0\n",
    "$"
   ]
  },
  {
   "cell_type": "markdown",
   "metadata": {},
   "source": [
    "$ \\leftrightarrow\n",
    "\\begin{cases}\n",
    "3 x_2 -3 x_3 = 0 \\\\\n",
    "6 x_2 -6 x_3 = 0 \\\\\n",
    "3 x_2 -3 x_3 = 0\n",
    "\\end{cases}\n",
    "$"
   ]
  },
  {
   "cell_type": "markdown",
   "metadata": {},
   "source": [
    "$\\leftrightarrow x_2 = x_3$"
   ]
  },
  {
   "cell_type": "markdown",
   "metadata": {},
   "source": [
    "$\n",
    "\\begin{bmatrix} x_1 \\\\ x_2 \\\\ x_3 \\end{bmatrix}\n",
    "= \\begin{bmatrix} x_1 \\\\ x_2 \\\\ x_2 \\end{bmatrix}\n",
    "= \\begin{bmatrix} x_1 \\\\ 0 \\\\ 0 \\end{bmatrix} + \\begin{bmatrix} 0 \\\\ x_2 \\\\ x_2 \\end{bmatrix}\n",
    "= \\begin{bmatrix} 1 \\\\ 0 \\\\ 0 \\end{bmatrix} t + \\begin{bmatrix} 0 \\\\ 1 \\\\ 1 \\end{bmatrix} s\n",
    "$"
   ]
  },
  {
   "cell_type": "markdown",
   "metadata": {},
   "source": [
    "$ \\therefore\n",
    "v_1 = \n",
    "\\begin{bmatrix}\n",
    "1 \\\\ 0 \\\\ 0\n",
    "\\end{bmatrix}\n",
    ",\n",
    "v_2 = \n",
    "\\begin{bmatrix}\n",
    "0 \\\\ 1 \\\\ 1\n",
    "\\end{bmatrix}\n",
    "$"
   ]
  },
  {
   "cell_type": "markdown",
   "metadata": {},
   "source": [
    "ii) $\\lambda = -2$\n",
    "\n",
    "$\n",
    "\\lambda I - A = \\begin{bmatrix}\n",
    "-3 & 3 & -3 \\\\ 0 & 3 & -6 \\\\ 0 & 3 & -6\n",
    "\\end{bmatrix}\n",
    "$"
   ]
  },
  {
   "cell_type": "markdown",
   "metadata": {},
   "source": [
    "$\n",
    "B_2 = \n",
    "\\begin{bmatrix} -3 & 3 & -3 \\\\ 0 & 3 & -6 \\\\ 0 & 3 & -6 \\end{bmatrix}\n",
    "\\begin{bmatrix} x_1 \\\\ x_2 \\\\ x_3 \\end{bmatrix}\n",
    "= 0\n",
    "$"
   ]
  },
  {
   "cell_type": "markdown",
   "metadata": {},
   "source": [
    "$ \\leftrightarrow\n",
    "\\begin{cases}\n",
    "-3 x_1 +3 x_2 -3 x_3 = 0 \\\\\n",
    "3 x_2 -6 x_3 = 0 \\\\\n",
    "3 x_2 -6 x_3 = 0\n",
    "\\end{cases}\n",
    "$"
   ]
  },
  {
   "cell_type": "markdown",
   "metadata": {},
   "source": [
    "$\\leftrightarrow x_1 = x_3 , 2 x_2 = x_3 $"
   ]
  },
  {
   "cell_type": "markdown",
   "metadata": {},
   "source": [
    "$\n",
    "\\begin{bmatrix}\n",
    "x_1 \\\\ x_2 \\\\ x_3\n",
    "\\end{bmatrix}\n",
    "=\n",
    "\\begin{bmatrix}\n",
    "x_3 \\\\ 2 x_3 \\\\ x_3\n",
    "\\end{bmatrix}\n",
    "=\n",
    "\\begin{bmatrix}\n",
    "1 \\\\ 2 \\\\ 1\n",
    "\\end{bmatrix}\n",
    "t\n",
    "$"
   ]
  },
  {
   "cell_type": "markdown",
   "metadata": {},
   "source": [
    "$ \\therefore\n",
    "v_3 = \n",
    "\\begin{bmatrix}\n",
    "1 \\\\ 2 \\\\ 1\n",
    "\\end{bmatrix}\n",
    "$"
   ]
  },
  {
   "cell_type": "markdown",
   "metadata": {},
   "source": [
    "$\n",
    "Q = \n",
    "\\begin{bmatrix} v_1 & v_2 & v_3 \\end{bmatrix}\n",
    "= \\begin{bmatrix} 1 & 0 & 1 \\\\ 0 & 1 & 2 \\\\ 0 & 1 & 1 \\end{bmatrix}\n",
    "$"
   ]
  },
  {
   "cell_type": "markdown",
   "metadata": {},
   "source": [
    "$Q^{-1} = \\begin{bmatrix} 1 & -1 & 1 \\\\ 0 & -1 & 2 \\\\ 0 & 1 & -1 \\end{bmatrix}$"
   ]
  },
  {
   "cell_type": "markdown",
   "metadata": {},
   "source": [
    "$\\therefore D = Q^{-1}AQ = \n",
    "\\begin{bmatrix} 1 & -1 & 1 \\\\ 0 & -1 & 2 \\\\ 0 & 1 & 3 \\end{bmatrix}\n",
    "\\begin{bmatrix} 1 & -3 & 3 \\\\ 0 & -5 & 6 \\\\ 0 & -3 & 4 \\end{bmatrix}\n",
    "\\begin{bmatrix} 1 & 0 & 1 \\\\ 0 & 1 & 2 \\\\ 0 & 1 & 1 \\end{bmatrix}\n",
    "=\n",
    "\\begin{bmatrix} 1 & 0 & 0 \\\\ 0 & 1 & 0 \\\\ 0 & 0 & -2 \\end{bmatrix}\n",
    "$"
   ]
  },
  {
   "cell_type": "markdown",
   "metadata": {},
   "source": [
    "---"
   ]
  },
  {
   "cell_type": "markdown",
   "metadata": {},
   "source": [
    "## F29-8: Singular Value Decomposition"
   ]
  },
  {
   "cell_type": "markdown",
   "metadata": {},
   "source": [
    "*Q. Find the SVD of* \n",
    "$A = \\begin{bmatrix} 1.2 & 0.9 & -4 \\\\ 1.6 & 1.2 & 3 \\end{bmatrix}$."
   ]
  },
  {
   "cell_type": "markdown",
   "metadata": {},
   "source": [
    "$\n",
    "AA^T = \\begin{bmatrix} 1.2 & 0.9 & -4 \\\\ 1.6 & 1.2 & 3 \\end{bmatrix}\n",
    "\\begin{bmatrix} 1.2 & 1.6 \\\\ 0.9 & 1.2 \\\\ -4 & 3 \\end{bmatrix}\n",
    "= \\begin{bmatrix} 18.25 & -9 \\\\ -9 & 13 \\end{bmatrix}\n",
    "$"
   ]
  },
  {
   "cell_type": "markdown",
   "metadata": {},
   "source": [
    "$\n",
    "\\lambda I- AA^T = \\begin{bmatrix} \\lambda - 18.25 & 9 \\\\ 9 & \\lambda - 13 \\end{bmatrix}\n",
    "$"
   ]
  },
  {
   "cell_type": "markdown",
   "metadata": {},
   "source": [
    "$\\det (\\lambda I - AA^T) = (\\lambda - 18.25)(\\lambda - 13) - 81$"
   ]
  },
  {
   "cell_type": "markdown",
   "metadata": {},
   "source": [
    "$= \\lambda^2 - 31.25 \\lambda + 156.25$"
   ]
  },
  {
   "cell_type": "markdown",
   "metadata": {},
   "source": [
    "$ = (\\lambda - 25)(4\\lambda - 25) $\n"
   ]
  },
  {
   "cell_type": "markdown",
   "metadata": {},
   "source": [
    "$=0 $"
   ]
  },
  {
   "cell_type": "markdown",
   "metadata": {},
   "source": [
    "$\\therefore \\lambda_1 = 25, \\lambda_2 = 6.25$"
   ]
  },
  {
   "cell_type": "markdown",
   "metadata": {},
   "source": [
    "i) $\\lambda = 25$\n",
    "\n",
    "$\n",
    "\\lambda I - AA^T = \\begin{bmatrix} 6.75 & 9 \\\\ 9 & 12 \\end{bmatrix}\n",
    "$"
   ]
  },
  {
   "cell_type": "markdown",
   "metadata": {},
   "source": [
    "$\n",
    "B_1 = \\begin{bmatrix} 6.75 & 9 \\\\ 9 & 12 \\end{bmatrix}\n",
    "\\begin{bmatrix} x_1 \\\\ x_2 \\end{bmatrix}\n",
    "= 0\n",
    "$"
   ]
  },
  {
   "cell_type": "markdown",
   "metadata": {},
   "source": [
    "$ \\leftrightarrow\n",
    "\\begin{cases} 6.75 x_1 + 9 x_2 = 0 \\\\ 9 x_1 + 12 x_2 = 0 \\end{cases}\n",
    "$"
   ]
  },
  {
   "cell_type": "markdown",
   "metadata": {},
   "source": [
    "$\\leftrightarrow\n",
    "3 x_1 = -4 x_2\n",
    "$"
   ]
  },
  {
   "cell_type": "markdown",
   "metadata": {},
   "source": [
    "$\n",
    "\\begin{bmatrix} x_1 \\\\ x_2 \\end{bmatrix}\n",
    "= \\begin{bmatrix} x_1 \\\\ -\\frac{3}{4} x_1 \\end{bmatrix}\n",
    "= \\begin{bmatrix} -0.8 \\\\ 0.6 \\end{bmatrix} t\n",
    "$"
   ]
  },
  {
   "cell_type": "markdown",
   "metadata": {},
   "source": [
    "$\\therefore u_1 = \\begin{bmatrix} -0.8 \\\\ 0.6 \\end{bmatrix}$"
   ]
  },
  {
   "cell_type": "markdown",
   "metadata": {},
   "source": [
    "ii) $\\lambda =  6.25$\n",
    "\n",
    "$\n",
    "\\lambda I - AA^T = \\begin{bmatrix} -12 & 9 \\\\ 9 & -6.75 \\end{bmatrix}\n",
    "$"
   ]
  },
  {
   "cell_type": "markdown",
   "metadata": {},
   "source": [
    "$\n",
    "B_2 = \\begin{bmatrix} -12 & 9 \\\\ 9 & -6.75 \\end{bmatrix}\n",
    "= \\begin{bmatrix} x_1 \\\\ x_2 \\end{bmatrix}\n",
    "= 0\n",
    "$"
   ]
  },
  {
   "cell_type": "markdown",
   "metadata": {},
   "source": [
    "$ \\leftrightarrow\n",
    "\\begin{cases} -12 x_1 + 9 x_2 = 0 \\\\ 9 x_1 + -6.75 x_2 = 0 \\end{cases}\n",
    "$"
   ]
  },
  {
   "cell_type": "markdown",
   "metadata": {},
   "source": [
    "$\\leftrightarrow\n",
    "4 x_1 = 3 x_2\n",
    "$"
   ]
  },
  {
   "cell_type": "markdown",
   "metadata": {},
   "source": [
    "$\n",
    "\\begin{bmatrix} x_1 \\\\ x_2 \\end{bmatrix}\n",
    "= \\begin{bmatrix} x_1 \\\\ \\frac{4}{3} x_1 \\end{bmatrix}\n",
    "= \\begin{bmatrix} 0.6 \\\\ 0.8 \\end{bmatrix} t\n",
    "$"
   ]
  },
  {
   "cell_type": "markdown",
   "metadata": {},
   "source": [
    "$\\therefore u_2 = \\begin{bmatrix} 0.6 \\\\ 0.8 \\end{bmatrix}$"
   ]
  },
  {
   "cell_type": "markdown",
   "metadata": {},
   "source": [
    "$\n",
    "A^T A = \n",
    "\\begin{bmatrix} 1.2 & 1.6 \\\\ 0.9 & 1.2 \\\\ -4 & 3 \\end{bmatrix}\n",
    "\\begin{bmatrix} 1.2 & 0.9 & -4 \\\\ 1.6 & 1.2 & 3 \\end{bmatrix}\n",
    "= \\begin{bmatrix} 4 & 3 & 0 \\\\ 3 & 2.25 & 0 \\\\ 0 & 0 & 25 \\end{bmatrix}\n",
    "$"
   ]
  },
  {
   "cell_type": "markdown",
   "metadata": {},
   "source": [
    "$\n",
    "\\lambda I - A^T A =\n",
    "\\begin{bmatrix} \\lambda -4 & -3 & 0 \\\\ -3 & \\lambda -2.25 & 0 \\\\ 0 & 0 & \\lambda -25 \\end{bmatrix}\n",
    "$"
   ]
  },
  {
   "cell_type": "markdown",
   "metadata": {},
   "source": [
    "$\n",
    "\\det (\\lambda - A^T A) =\n",
    "(\\lambda - 4) \\det \\begin{bmatrix} \\lambda - 2.25 & 0 \\\\ 0 & \\lambda - 25 \\end{bmatrix}\n",
    "- (-3) \\det \\begin{bmatrix} -3 & 0 \\\\ 0 & \\lambda - 25 \\end{bmatrix}\n",
    "+ 0 \\det \\begin{bmatrix} -3 & \\lambda - 2.25 \\\\ 0 & 0 \\end{bmatrix}\n",
    "$"
   ]
  },
  {
   "cell_type": "markdown",
   "metadata": {},
   "source": [
    "$= (\\lambda - 4)(\\lambda - 2.25)(\\lambda - 25) + 3 * (-3) (\\lambda - 25) + 0$"
   ]
  },
  {
   "cell_type": "markdown",
   "metadata": {},
   "source": [
    "$= \\lambda(\\lambda - 6.25)(\\lambda - 25)$"
   ]
  },
  {
   "cell_type": "markdown",
   "metadata": {},
   "source": [
    "$= 0$"
   ]
  },
  {
   "cell_type": "markdown",
   "metadata": {},
   "source": [
    "$\\therefore \\lambda_1 = 25, \\lambda_2 = 6.25, \\lambda_3 = 0, \\sigma_1 = 5, \\sigma_2 = 2.5$"
   ]
  },
  {
   "cell_type": "markdown",
   "metadata": {},
   "source": [
    "i) $\\lambda = 25$\n",
    "\n",
    "$\n",
    "\\lambda I - A^T A = \\begin{bmatrix} 21 & -3 & 0 \\\\ -3 & 22.75 & 0 \\\\ 0 & 0 & 0 \\end{bmatrix}\n",
    "$"
   ]
  },
  {
   "cell_type": "markdown",
   "metadata": {},
   "source": [
    "$\n",
    "B_1 = \\begin{bmatrix} 21 & -3 & 0 \\\\ -3 & 22.75 & 0 \\\\ 0 & 0 & 0 \\end{bmatrix}\n",
    "\\begin{bmatrix} x_1 \\\\ x_2 \\\\ x_3 \\end{bmatrix} = 0\n",
    "$"
   ]
  },
  {
   "cell_type": "markdown",
   "metadata": {},
   "source": [
    "$ \\leftrightarrow\n",
    "\\begin{cases} 21 x_1 -3 x_2 = 0 \\\\ -3 x_1 +22.75 x_2 = 0 \\end{cases}\n",
    "$"
   ]
  },
  {
   "cell_type": "markdown",
   "metadata": {},
   "source": [
    "$\\leftrightarrow x_1 = x_2 = 0$"
   ]
  },
  {
   "cell_type": "markdown",
   "metadata": {},
   "source": [
    "$\n",
    "\\begin{bmatrix} x_1 \\\\ x_2 \\\\ x_3 \\end{bmatrix}\n",
    "= \\begin{bmatrix} 0 \\\\ 0 \\\\ x_3 \\end{bmatrix}\n",
    "= \\begin{bmatrix} 0 \\\\ 0 \\\\ 1 \\end{bmatrix} t\n",
    "$"
   ]
  },
  {
   "cell_type": "markdown",
   "metadata": {},
   "source": [
    "$\\therefore v_1 = \\begin{bmatrix} 0 \\\\ 0 \\\\ 1 \\end{bmatrix} $"
   ]
  },
  {
   "cell_type": "markdown",
   "metadata": {},
   "source": [
    "ii) $\\lambda = 6.25$\n",
    "\n",
    "$\n",
    "\\lambda I - A^T A = \\begin{bmatrix} 2.25 & -3 & 0 \\\\ -3 & 4 & 0 \\\\ 0 & 0 & -18.75 \\end{bmatrix}\n",
    "$"
   ]
  },
  {
   "cell_type": "markdown",
   "metadata": {},
   "source": [
    "$\n",
    "B_2 = \\begin{bmatrix} 2.25 & -3 & 0 \\\\ -3 & 4 & 0 \\\\ 0 & 0 & -18.75 \\end{bmatrix}\n",
    "\\begin{bmatrix} x_1 \\\\ x_2 \\\\ x_3 \\end{bmatrix} = 0\n",
    "$"
   ]
  },
  {
   "cell_type": "markdown",
   "metadata": {},
   "source": [
    "$ \\leftrightarrow\n",
    "\\begin{cases} 2.25 x_1 - 3 x_2 = 0 \\\\ -3 x_1 + 4 x_2 = 0 \\\\ -18.75 x_3 = 0 \\end{cases}\n",
    "$"
   ]
  },
  {
   "cell_type": "markdown",
   "metadata": {},
   "source": [
    "$ \\leftrightarrow\n",
    "\\begin{cases} 3 x_1 = 4 x_2 \\\\ x_3 = 0 \\end{cases}\n",
    "$"
   ]
  },
  {
   "cell_type": "markdown",
   "metadata": {},
   "source": [
    "$\n",
    "\\begin{bmatrix} x_1 \\\\ x_2 \\\\ x_3 \\end{bmatrix}\n",
    "= \\begin{bmatrix} x_1 \\\\ \\frac{3}{4}x_1 \\\\ 0 \\end{bmatrix}\n",
    "= \\begin{bmatrix} 0.8 \\\\ 0.6 \\\\ 0 \\end{bmatrix}t\n",
    "$"
   ]
  },
  {
   "cell_type": "markdown",
   "metadata": {},
   "source": [
    "$ \\therefore v_2 = \\begin{bmatrix} 0.8 \\\\ 0.6 \\\\ 0 \\end{bmatrix} $"
   ]
  },
  {
   "cell_type": "markdown",
   "metadata": {},
   "source": [
    "iii) $\\lambda = 0$\n",
    "\n",
    "$\n",
    "\\lambda I - A^T A = \\begin{bmatrix} -4 & -3 & 0 \\\\ -3 & -2.25 & 0 \\\\ 0 & 0 & -25 \\end{bmatrix}\n",
    "$"
   ]
  },
  {
   "cell_type": "markdown",
   "metadata": {},
   "source": [
    "$\n",
    "B_3 = \\begin{bmatrix} -4 & -3 & 0 \\\\ -3 & -2.25 & 0 \\\\ 0 & 0 & -25 \\end{bmatrix}\n",
    "\\begin{bmatrix} x_1 \\\\ x_2 \\\\ x_3 \\end{bmatrix} = 0\n",
    "$"
   ]
  },
  {
   "cell_type": "markdown",
   "metadata": {},
   "source": [
    "$ \\leftrightarrow\n",
    "\\begin{cases} -4 x_1 - 3 x_2 = 0 \\\\ -3 x_1 - 2.25 x_2 = 0 \\\\ -25 x_3 = 0 \\end{cases}\n",
    "$"
   ]
  },
  {
   "cell_type": "markdown",
   "metadata": {},
   "source": [
    "$ \\leftrightarrow\n",
    "\\begin{cases} 4 x_1 = -3 x_2 \\\\ x_3 = 0 \\end{cases}\n",
    "$"
   ]
  },
  {
   "cell_type": "markdown",
   "metadata": {},
   "source": [
    "$\n",
    "\\begin{bmatrix} x_1 \\\\ x_2 \\\\ x_3 \\end{bmatrix}\n",
    "= \\begin{bmatrix} x_1 \\\\ -\\frac{4}{3}x_1 \\\\ 0 \\end{bmatrix}\n",
    "= \\begin{bmatrix} -0.6 \\\\ 0.8 \\\\ 0 \\end{bmatrix} t\n",
    "$"
   ]
  },
  {
   "cell_type": "markdown",
   "metadata": {},
   "source": [
    "$ \\therefore v_3 = \\begin{bmatrix} -0.6 \\\\ 0.8 \\\\ 0 \\end{bmatrix} $"
   ]
  },
  {
   "cell_type": "markdown",
   "metadata": {},
   "source": [
    "$ \\therefore\n",
    "A = U \\Sigma V^T  = \n",
    "\\begin{bmatrix} u_1 & u_2 \\end{bmatrix} \n",
    "\\begin{bmatrix} \\sigma_1 & 0 & 0 \\\\ 0 & \\sigma_2 & 0 \\\\ 0 & 0 & 0 \\end{bmatrix} \n",
    "\\begin{bmatrix} v_1 ^T \\\\ v_2 ^T \\\\ v_3 ^T \\end{bmatrix}\n",
    "= \n",
    "\\begin{bmatrix} -0.8 & 0.6 \\\\ 0.6 & 0.8 \\end{bmatrix} \n",
    "\\begin{bmatrix} 5 & 0 & 0 \\\\ 0 & 2.5 & 0 \\\\ 0 & 0 & 0 \\end{bmatrix} \n",
    "\\begin{bmatrix} 0 & 0 & 1 \\\\ 0.8 & 0.6 & 0 \\\\ -0.6 & 0.8 & 0 \\end{bmatrix}\n",
    "$"
   ]
  },
  {
   "cell_type": "markdown",
   "metadata": {},
   "source": [
    "---"
   ]
  },
  {
   "cell_type": "markdown",
   "metadata": {},
   "source": [
    "## F29-10: Gradient vector, Directional Derivative"
   ]
  },
  {
   "cell_type": "markdown",
   "metadata": {},
   "source": [
    "*Get a tangent line of the ellipse* $\\frac{x^2}{4}+y^2 = 2$ *at* $(-2,1)$ *using gradient vector*."
   ]
  },
  {
   "cell_type": "markdown",
   "metadata": {},
   "source": [
    "$\n",
    "\\nabla f = (f_x, f_y) = (\\frac{1}{2}x, 2y)\n",
    "$"
   ]
  },
  {
   "cell_type": "markdown",
   "metadata": {},
   "source": [
    "$\\nabla f (-2, 1) = (-1, 2)$"
   ]
  },
  {
   "cell_type": "markdown",
   "metadata": {},
   "source": [
    "$\\therefore l = -(x+2)+2(y-1)=0$"
   ]
  }
 ],
 "metadata": {
  "kernelspec": {
   "display_name": "Python 3",
   "language": "python",
   "name": "python3"
  },
  "language_info": {
   "codemirror_mode": {
    "name": "ipython",
    "version": 3
   },
   "file_extension": ".py",
   "mimetype": "text/x-python",
   "name": "python",
   "nbconvert_exporter": "python",
   "pygments_lexer": "ipython3",
   "version": "3.8.6"
  }
 },
 "nbformat": 4,
 "nbformat_minor": 4
}
