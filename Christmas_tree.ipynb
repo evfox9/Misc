{
 "cells": [
  {
   "cell_type": "markdown",
   "metadata": {},
   "source": [
    "# Christmas Tree Maker"
   ]
  },
  {
   "cell_type": "markdown",
   "metadata": {},
   "source": [
    "``` py\n",
    "make_tree(tree_height, tree_width, resolution=20, tangent=1.5, leaf_height=0.8, trunk_width=0.05, orna_freq=1, \n",
    "bark_color='#660000', bg_color='#FFFFFF', orna1_color='#FFFF00', orna2_color='#FF0000', leaf_color='#003300')\n",
    "```"
   ]
  },
  {
   "cell_type": "markdown",
   "metadata": {},
   "source": [
    "### Parameters\n",
    "\n",
    "**`tree_height` :** ***int***\n",
    "\n",
    "Determines the number of pixels for the height of the tree. Should not be smaller than **`resolution`**.\n",
    "\n",
    "**`tree_width`:** ***int***\n",
    "\n",
    "Determines the number of pixels for the width of the tree. Should not be smaller than **`resolution`**.\n",
    "\n",
    "**`resolution`:** ***float, optional***\n",
    "\n",
    "Determines the resolution of the output image. Setting this parameter higher will make the image more clear but smaller.\n",
    "\n",
    "**`tangent`:** ***float, optional***\n",
    "\n",
    "Determines the tangent of the tree leaves. Setting this parameter higher will make your tree sharper. Should not be smaller than 0.\n",
    "\n",
    "**`leaf_height`:** ***float, optional***\n",
    "\n",
    "Determines the height of the tree leaves. Should be between 0 and 1.\n",
    "\n",
    "**`trunk_width`:** ***float, optional***\n",
    "\n",
    "Determines the width of the trunk. Should be between 0 and 1.\n",
    "\n",
    "**`orna_freq`:** ***float, optional***\n",
    "\n",
    "Determines the number of ornaments. If you set this parameter higher, more ornaments will be on the tree. Should not be smaller than 0.\n",
    "\n",
    "**`bark_color`:** ***color, optional***\n",
    "\n",
    "Bark color.\n",
    "\n",
    "**`bg_color`:** ***color, optional***\n",
    "\n",
    "Background color.\n",
    "\n",
    "**`orna1_color`:** ***color, optional***\n",
    "\n",
    "Ornament1 color.\n",
    "\n",
    "**`orna2_color`:** ***color, optional***\n",
    "\n",
    "Ornament2 color.\n",
    "\n",
    "**`leaf_color` :** ***color, optional***\n",
    "\n",
    "Leaf color."
   ]
  },
  {
   "cell_type": "markdown",
   "metadata": {},
   "source": [
    "### Codes"
   ]
  },
  {
   "cell_type": "code",
   "execution_count": 1,
   "metadata": {},
   "outputs": [],
   "source": [
    "import numpy as np\n",
    "import pandas as pd\n",
    "import matplotlib.pyplot as plt\n",
    "import seaborn as sns"
   ]
  },
  {
   "cell_type": "code",
   "execution_count": 2,
   "metadata": {},
   "outputs": [],
   "source": [
    "def make_tree(tree_height, tree_width, resolution=20, tangent=1.5, leaf_height=0.8, trunk_width=0.05, orna_freq=1, \n",
    "              bark_color='#660000', bg_color='#FFFFFF', orna1_color='#FFFF00', orna2_color='#FF0000', leaf_color='#003300'):\n",
    "    \n",
    "    tree = np.arange(tree_height*tree_width).reshape(tree_height,tree_width).astype('float64')\n",
    "    tree[(tree % tree_width > tree_width // 2 + tree // (tree_height*tangent)) | \n",
    "         (tree % tree_width < tree_width // 2 - tree // (tree_height*tangent))] = 0\n",
    "    tree[(tree >= tree_height*tree_width*leaf_height) & \n",
    "         ((tree % tree_width > tree_width // 2 + tree_width*trunk_width) | \n",
    "          (tree % tree_width < tree_width // 2 - tree_width*trunk_width))] = 0\n",
    "    tree[tree > 0 ] = 1\n",
    "    tree[:int(tree_height*leaf_height),:] *= np.random.normal(40, orna_freq*4, (int(tree_height*leaf_height), tree_width))\n",
    "    tree[int(tree_height*leaf_height):,:] *= -20\n",
    "\n",
    "    palette = [bark_color, bg_color, orna1_color, leaf_color, orna2_color]\n",
    "    cmap = sns.color_palette(palette, len(palette), as_cmap=True)\n",
    "    \n",
    "    fig, ax = plt.subplots(1, 1, figsize=(tree_width//resolution, tree_height//resolution))\n",
    "    sns.heatmap(tree-20, center=0, cmap=cmap, vmin=-50, vmax=50, cbar=False, xticklabels=False, yticklabels=False)\n",
    "    plt.show()"
   ]
  },
  {
   "cell_type": "markdown",
   "metadata": {},
   "source": [
    "### Examples"
   ]
  },
  {
   "cell_type": "code",
   "execution_count": 3,
   "metadata": {},
   "outputs": [
    {
     "data": {
      "image/png": "[encoded data removed]",
      "text/plain": [
       "<Figure size 144x360 with 1 Axes>"
      ]
     },
     "metadata": {},
     "output_type": "display_data"
    }
   ],
   "source": [
    "make_tree(100, 50)"
   ]
  },
  {
   "cell_type": "code",
   "execution_count": 4,
   "metadata": {},
   "outputs": [
    {
     "data": {
      "image/png": "[encoded data removed]",
      "text/plain": [
       "<Figure size 288x360 with 1 Axes>"
      ]
     },
     "metadata": {},
     "output_type": "display_data"
    }
   ],
   "source": [
    "make_tree(500, 400, resolution=100, tangent=2, leaf_height=0.85, trunk_width=0.04, orna_freq=1.2, bark_color='#330000', \n",
    "          bg_color='#DDDDFF', orna1_color='#00EEFF', orna2_color='#FF00DD', leaf_color='#004400')"
   ]
  }
 ],
 "metadata": {
  "kernelspec": {
   "display_name": "Python 3",
   "language": "python",
   "name": "python3"
  },
  "language_info": {
   "codemirror_mode": {
    "name": "ipython",
    "version": 3
   },
   "file_extension": ".py",
   "mimetype": "text/x-python",
   "name": "python",
   "nbconvert_exporter": "python",
   "pygments_lexer": "ipython3",
   "version": "3.8.6"
  }
 },
 "nbformat": 4,
 "nbformat_minor": 4
}
