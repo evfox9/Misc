{
 "cells": [
  {
   "cell_type": "markdown",
   "metadata": {},
   "source": [
    "# Christmas Tree Maker"
   ]
  },
  {
   "cell_type": "markdown",
   "metadata": {},
   "source": [
    "``` py\n",
    "make_tree(tree_height=100, tree_width=50, quality=20, slope=1.5, leaf_height=0.8, trunk_width=0.05, orna_freq=1, \n",
    "bark_color='#660000', bg_color='#FFFFFF', orna1_color='#FFFF00', orna2_color='#FF0000', leaf_color='#003300')\n",
    "```"
   ]
  },
  {
   "cell_type": "markdown",
   "metadata": {},
   "source": [
    "### Parameters\n",
    "\n",
    "**`tree_height` :** ***int, optional***\n",
    "\n",
    "Determines the number of pixels for the height of the tree. Should not be smaller than **`quality`**.\n",
    "\n",
    "**`tree_width`:** ***int, optional***\n",
    "\n",
    "Determines the number of pixels for the width of the tree. Should not be smaller than **`quality`**.\n",
    "\n",
    "**`quality`:** ***float, optional***\n",
    "\n",
    "Determines the quality of the output image. Setting this parameter higher will make the image more clear but smaller.\n",
    "\n",
    "**`slope`:** ***float, optional***\n",
    "\n",
    "Determines the slope of the tree leaves. Setting this parameter higher will make your tree sharper. Should not be smaller than 0.\n",
    "\n",
    "**`leaf_height`:** ***float, optional***\n",
    "\n",
    "Determines the height of the tree leaves. Should be between 0 and 1.\n",
    "\n",
    "**`trunk_width`:** ***float, optional***\n",
    "\n",
    "Determines the width of the trunk. Should be between 0 and 1.\n",
    "\n",
    "**`orna_freq`:** ***float, optional***\n",
    "\n",
    "Determines the number of ornaments. If you set this parameter higher, more ornaments will be on the tree. Should not be smaller than 0.\n",
    "\n",
    "**`bark_color`:** ***color, optional***\n",
    "\n",
    "Bark color.\n",
    "\n",
    "**`bg_color`:** ***color, optional***\n",
    "\n",
    "Background color.\n",
    "\n",
    "**`orna1_color`:** ***color, optional***\n",
    "\n",
    "Ornament1 color.\n",
    "\n",
    "**`orna2_color`:** ***color, optional***\n",
    "\n",
    "Ornament2 color.\n",
    "\n",
    "**`leaf_color` :** ***color, optional***\n",
    "\n",
    "Leaf color."
   ]
  },
  {
   "cell_type": "markdown",
   "metadata": {},
   "source": [
    "### Codes"
   ]
  },
  {
   "cell_type": "code",
   "execution_count": 1,
   "metadata": {},
   "outputs": [],
   "source": [
    "import numpy as np\n",
    "import pandas as pd\n",
    "import matplotlib.pyplot as plt\n",
    "import seaborn as sns"
   ]
  },
  {
   "cell_type": "code",
   "execution_count": 2,
   "metadata": {},
   "outputs": [],
   "source": [
    "def make_tree(tree_height=100, tree_width=50, quality=20, slope=1.5, leaf_height=0.8, trunk_width=0.05, orna_freq=1, \n",
    "              bark_color='#660000', bg_color='#FFFFFF', orna1_color='#FFFF00', orna2_color='#FF0000', leaf_color='#003300'):\n",
    "    \n",
    "    tree = np.arange(tree_height*tree_width).reshape(tree_height,tree_width).astype('float64')\n",
    "    tree[(tree % tree_width > tree_width // 2 + tree // (tree_height*slope)) | \n",
    "         (tree % tree_width < tree_width // 2 - tree // (tree_height*slope))] = 0\n",
    "    tree[(tree >= tree_height*tree_width*leaf_height) & \n",
    "         ((tree % tree_width > tree_width // 2 + tree_width*trunk_width) | \n",
    "          (tree % tree_width < tree_width // 2 - tree_width*trunk_width))] = 0\n",
    "    tree[tree > 0 ] = 1\n",
    "    tree[:int(tree_height*leaf_height),:] *= np.random.normal(40, orna_freq*4, (int(tree_height*leaf_height), tree_width))\n",
    "    tree[int(tree_height*leaf_height):,:] *= -20\n",
    "\n",
    "    palette = [bark_color, bg_color, orna1_color, leaf_color, orna2_color]\n",
    "    cmap = sns.color_palette(palette, len(palette), as_cmap=True)\n",
    "    \n",
    "    fig, ax = plt.subplots(1, 1, figsize=(tree_width//quality, tree_height//quality))\n",
    "    sns.heatmap(tree-20, center=0, cmap=cmap, vmin=-50, vmax=50, cbar=False, xticklabels=False, yticklabels=False)\n",
    "    plt.show()"
   ]
  },
  {
   "cell_type": "markdown",
   "metadata": {},
   "source": [
    "### Examples"
   ]
  },
  {
   "cell_type": "code",
   "execution_count": 3,
   "metadata": {},
   "outputs": [
    {
     "data": {
      "image/png": "[encoded data removed]",
      "text/plain": [
       "<Figure size 144x360 with 1 Axes>"
      ]
     },
     "metadata": {},
     "output_type": "display_data"
    }
   ],
   "source": [
    "make_tree()"
   ]
  },
  {
   "cell_type": "code",
   "execution_count": 4,
   "metadata": {},
   "outputs": [
    {
     "data": {
      "image/png": "[encoded data removed]",
      "text/plain": [
       "<Figure size 144x288 with 1 Axes>"
      ]
     },
     "metadata": {},
     "output_type": "display_data"
    }
   ],
   "source": [
    "make_tree(40, 20, quality=10, slope=1.1, orna_freq=1.2, bg_color='black', leaf_color='green')"
   ]
  },
  {
   "cell_type": "code",
   "execution_count": 5,
   "metadata": {},
   "outputs": [
    {
     "data": {
      "image/png": "[encoded data removed]",
      "text/plain": [
       "<Figure size 288x360 with 1 Axes>"
      ]
     },
     "metadata": {},
     "output_type": "display_data"
    }
   ],
   "source": [
    "make_tree(500, 400, quality=100, slope=2, leaf_height=0.85, trunk_width=0.1, orna_freq=1.3, bark_color='#663333', \n",
    "          bg_color='#EEEEFF', orna1_color='#3399FF', orna2_color='#FF9900', leaf_color='#336633')"
   ]
  }
 ],
 "metadata": {
  "kernelspec": {
   "display_name": "Python 3",
   "language": "python",
   "name": "python3"
  },
  "language_info": {
   "codemirror_mode": {
    "name": "ipython",
    "version": 3
   },
   "file_extension": ".py",
   "mimetype": "text/x-python",
   "name": "python",
   "nbconvert_exporter": "python",
   "pygments_lexer": "ipython3",
   "version": "3.8.6"
  }
 },
 "nbformat": 4,
 "nbformat_minor": 4
}
